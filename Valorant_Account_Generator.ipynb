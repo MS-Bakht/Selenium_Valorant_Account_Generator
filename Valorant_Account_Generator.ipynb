{
 "cells": [
  {
   "cell_type": "code",
   "execution_count": 2,
   "id": "801f9c78",
   "metadata": {},
   "outputs": [],
   "source": [
    "LengthOfEmail = 8"
   ]
  },
  {
   "cell_type": "code",
   "execution_count": 13,
   "id": "01b8faf7",
   "metadata": {},
   "outputs": [],
   "source": [
    "NumberOfAccounts = 2"
   ]
  },
  {
   "cell_type": "code",
   "execution_count": 3,
   "id": "c2690891",
   "metadata": {},
   "outputs": [
    {
     "name": "stdout",
     "output_type": "stream",
     "text": [
      "Requirement already satisfied: selenium in c:\\users\\xade\\anaconda3\\lib\\site-packages (4.1.5)\n",
      "Requirement already satisfied: trio-websocket~=0.9 in c:\\users\\xade\\anaconda3\\lib\\site-packages (from selenium) (0.9.2)\n",
      "Requirement already satisfied: urllib3[secure,socks]~=1.26 in c:\\users\\xade\\anaconda3\\lib\\site-packages (from selenium) (1.26.7)\n",
      "Requirement already satisfied: trio~=0.17 in c:\\users\\xade\\anaconda3\\lib\\site-packages (from selenium) (0.20.0)\n",
      "Requirement already satisfied: idna in c:\\users\\xade\\anaconda3\\lib\\site-packages (from trio~=0.17->selenium) (3.2)\n",
      "Requirement already satisfied: cffi>=1.14 in c:\\users\\xade\\anaconda3\\lib\\site-packages (from trio~=0.17->selenium) (1.14.6)\n",
      "Requirement already satisfied: async-generator>=1.9 in c:\\users\\xade\\anaconda3\\lib\\site-packages (from trio~=0.17->selenium) (1.10)\n",
      "Requirement already satisfied: outcome in c:\\users\\xade\\anaconda3\\lib\\site-packages (from trio~=0.17->selenium) (1.1.0)\n",
      "Requirement already satisfied: sniffio in c:\\users\\xade\\anaconda3\\lib\\site-packages (from trio~=0.17->selenium) (1.2.0)\n",
      "Requirement already satisfied: attrs>=19.2.0 in c:\\users\\xade\\anaconda3\\lib\\site-packages (from trio~=0.17->selenium) (21.2.0)\n",
      "Requirement already satisfied: sortedcontainers in c:\\users\\xade\\anaconda3\\lib\\site-packages (from trio~=0.17->selenium) (2.4.0)\n",
      "Requirement already satisfied: wsproto>=0.14 in c:\\users\\xade\\anaconda3\\lib\\site-packages (from trio-websocket~=0.9->selenium) (1.1.0)\n",
      "Requirement already satisfied: PySocks!=1.5.7,<2.0,>=1.5.6 in c:\\users\\xade\\anaconda3\\lib\\site-packages (from urllib3[secure,socks]~=1.26->selenium) (1.7.1)\n",
      "Requirement already satisfied: pyOpenSSL>=0.14 in c:\\users\\xade\\anaconda3\\lib\\site-packages (from urllib3[secure,socks]~=1.26->selenium) (21.0.0)\n",
      "Requirement already satisfied: cryptography>=1.3.4 in c:\\users\\xade\\anaconda3\\lib\\site-packages (from urllib3[secure,socks]~=1.26->selenium) (3.4.8)\n",
      "Requirement already satisfied: certifi in c:\\users\\xade\\anaconda3\\lib\\site-packages (from urllib3[secure,socks]~=1.26->selenium) (2021.10.8)\n",
      "Requirement already satisfied: pycparser in c:\\users\\xade\\anaconda3\\lib\\site-packages (from cffi>=1.14->trio~=0.17->selenium) (2.20)\n",
      "Requirement already satisfied: six>=1.5.2 in c:\\users\\xade\\anaconda3\\lib\\site-packages (from pyOpenSSL>=0.14->urllib3[secure,socks]~=1.26->selenium) (1.16.0)\n",
      "Requirement already satisfied: h11<1,>=0.9.0 in c:\\users\\xade\\anaconda3\\lib\\site-packages (from wsproto>=0.14->trio-websocket~=0.9->selenium) (0.13.0)\n",
      "Note: you may need to restart the kernel to use updated packages.\n"
     ]
    },
    {
     "name": "stderr",
     "output_type": "stream",
     "text": [
      "WARNING: There was an error checking the latest version of pip.\n"
     ]
    }
   ],
   "source": [
    "pip install selenium"
   ]
  },
  {
   "cell_type": "code",
   "execution_count": 4,
   "id": "db446ebe",
   "metadata": {},
   "outputs": [],
   "source": [
    "import time\n",
    "import pandas as pd\n",
    "from selenium import webdriver\n",
    "from selenium.webdriver.edge.options import Options\n",
    "from selenium.webdriver.chrome.options import Options\n",
    "from selenium.webdriver.common.keys import Keys\n",
    "from webdriver_manager.chrome import ChromeDriverManager\n",
    "from selenium.webdriver.common.by import By\n",
    "from selenium.common.exceptions import NoSuchElementException\n",
    "import random\n",
    "import string\n",
    "from more_itertools import random_permutation\n",
    "from datetime import datetime"
   ]
  },
  {
   "cell_type": "code",
   "execution_count": 5,
   "id": "78de56d3",
   "metadata": {},
   "outputs": [
    {
     "name": "stdout",
     "output_type": "stream",
     "text": [
      "Requirement already satisfied: webdriver_manager in c:\\users\\xade\\anaconda3\\lib\\site-packages (3.5.4)\n",
      "Requirement already satisfied: requests in c:\\users\\xade\\anaconda3\\lib\\site-packages (from webdriver_manager) (2.26.0)\n",
      "Requirement already satisfied: charset-normalizer~=2.0.0 in c:\\users\\xade\\anaconda3\\lib\\site-packages (from requests->webdriver_manager) (2.0.4)\n",
      "Requirement already satisfied: urllib3<1.27,>=1.21.1 in c:\\users\\xade\\anaconda3\\lib\\site-packages (from requests->webdriver_manager) (1.26.7)\n",
      "Requirement already satisfied: certifi>=2017.4.17 in c:\\users\\xade\\anaconda3\\lib\\site-packages (from requests->webdriver_manager) (2021.10.8)\n",
      "Requirement already satisfied: idna<4,>=2.5 in c:\\users\\xade\\anaconda3\\lib\\site-packages (from requests->webdriver_manager) (3.2)\n"
     ]
    },
    {
     "name": "stderr",
     "output_type": "stream",
     "text": [
      "WARNING: There was an error checking the latest version of pip.\n"
     ]
    }
   ],
   "source": [
    "!pip install webdriver_manager"
   ]
  },
  {
   "cell_type": "code",
   "execution_count": 5,
   "id": "f278c746",
   "metadata": {},
   "outputs": [],
   "source": [
    "def gen_pass():\n",
    "    password=\"\"\n",
    "    letters = string.ascii_letters\n",
    "    password = password + \"\".join(random.choice(letters) for i in range(10)) #adds mixed(upper and lower case) characters\n",
    "    nums = string.digits\n",
    "    password = password + ''.join(random.choice(nums) for i in range(4)) #adds 4 digits\n",
    "    sym = string.punctuation\n",
    "    password = password +''.join(random.choice(sym) for i in range(2)) #adds 2 punctuations\n",
    "\n",
    "    for i in range(5): #shuffling the above generated password 5 times\n",
    "        password = ''.join(random_permutation(password))\n",
    "        \n",
    "    return password"
   ]
  },
  {
   "cell_type": "code",
   "execution_count": 6,
   "id": "39df02c1",
   "metadata": {},
   "outputs": [],
   "source": [
    "def generate_username():\n",
    "    username=\"\"\n",
    "    letters = string.ascii_letters\n",
    "    username = username + \"\".join(random.choice(letters) for i in range(8)) #adds mixed(upper and lower case) characters\n",
    "    nums = string.digits\n",
    "    username = username + ''.join(random.choice(nums) for i in range(2)) #adds 4 digits\n",
    "    \n",
    "    for i in range(2): #shuffling the above generated password 5 times\n",
    "        username = ''.join(random_permutation(username))\n",
    "    return username"
   ]
  },
  {
   "cell_type": "code",
   "execution_count": 7,
   "id": "09156450",
   "metadata": {},
   "outputs": [],
   "source": [
    "def save_credentials(email,username,password):\n",
    "   \n",
    "    f= open(\"Valorant_accounts.txt\",\"r+\")\n",
    "   \n",
    "    string = \"\\n~~~~~~~~~~\\nEmail: \"+email+\"\\nusername:  \"+username+\"\\nPassword:  \"+password+\"\\nDOB: 11032000\"+\"\\n~~~~~~~~~~\\n\"\n",
    "    \n",
    "    previous_data = f.read()\n",
    "    f.seek(0,0)\n",
    "    f.write(string.rstrip('\\r\\n') + '\\n' + previous_data)\n",
    "    f.close()\n",
    "    \n",
    "    /\n",
    "    return"
   ]
  },
  {
   "cell_type": "code",
   "execution_count": 8,
   "id": "dcad2fe5",
   "metadata": {},
   "outputs": [],
   "source": [
    "def gen_email():\n",
    "    email=\"\"\n",
    "    letters = string.ascii_letters\n",
    "    email = email + \"\".join(random.choice(letters) for i in range(LengthOfEmail)) #adds mixed(upper and lower case) characters\n",
    "\n",
    "    domains=[\"@gmail.com\",\"@yahoo.com\",\"@hotmail.com\",\"@protonmail.com\",\"@mailfence.com\"]\n",
    "    email = email + random.choice(domains)\n",
    "    \n",
    "    return email"
   ]
  },
  {
   "cell_type": "markdown",
   "id": "a8c7854f",
   "metadata": {},
   "source": [
    "# Code Valorant"
   ]
  },
  {
   "cell_type": "code",
   "execution_count": 9,
   "id": "72004e89",
   "metadata": {},
   "outputs": [],
   "source": [
    "SignUp_URL = 'https://auth.riotgames.com/login#client_id=play-valorant-web-prod&nonce=MTU2LDU0LDIwMCw2&prompt=signup&redirect_uri=https%3A%2F%2Fplayvalorant.com%2Fopt_in%2F%3Fredirect%3D%2Fdownload%2F&response_type=token%20id_token&scope=account%20openid&state=c2lnbnVw&ui_locales=en'"
   ]
  },
  {
   "cell_type": "code",
   "execution_count": 14,
   "id": "f79273e0",
   "metadata": {},
   "outputs": [
    {
     "name": "stderr",
     "output_type": "stream",
     "text": [
      "\n",
      "\n",
      "====== WebDriver manager ======\n",
      "Current google-chrome version is 103.0.5060\n",
      "Get LATEST chromedriver version for 103.0.5060 google-chrome\n",
      "Driver [C:\\Users\\Xade\\.wdm\\drivers\\chromedriver\\win32\\103.0.5060.134\\chromedriver.exe] found in cache\n",
      "C:\\Users\\Xade\\AppData\\Local\\Temp/ipykernel_2180/2156082206.py:2: DeprecationWarning: executable_path has been deprecated, please pass in a Service object\n",
      "  driver = webdriver.Chrome(ChromeDriverManager().install(), options=options)\n"
     ]
    }
   ],
   "source": [
    "options = Options()\n",
    "driver = webdriver.Chrome(ChromeDriverManager().install(), options=options)\n",
    "\n",
    "for ACnumber in range (0, NumberOfAccounts):\n",
    "\n",
    "    # Opening the signup url and generating email, username and password \n",
    "    \n",
    "    driver.get(SignUp_URL)\n",
    "    time.sleep(3)\n",
    "    email = gen_email()\n",
    "    password = gen_pass()\n",
    "    username = generate_username()\n",
    "    time.sleep(2)\n",
    "    \n",
    "    # Functioning \n",
    "        #Entering Email\n",
    "        #Entering DOB\n",
    "        #Entering Username\n",
    "    \n",
    "    #1.Entering Email\n",
    "    finder = driver.find_element(by=By.XPATH, value='/html/body/div[2]/div/div/div[2]/div/div[2]/form/div/div[2]/div/div[1]/div/input')\n",
    "    finder.send_keys(email)\n",
    "    \n",
    "    #clicking the next button\n",
    "    next_btn = driver.find_element(by=By.XPATH, value='/html/body/div[2]/div/div/div[2]/div/div[2]/form/div/button')\n",
    "    driver.execute_script(\"arguments[0].click();\", next_btn)\n",
    "    time.sleep(2)\n",
    "    \n",
    "    #2.Entering DOB\n",
    "    finder = driver.find_element(by=By.XPATH, value='/html/body/div[2]/div/div/div[2]/div/div[2]/form/div/div[2]/div/div/div[1]/input')\n",
    "    finder.send_keys('11032000')\n",
    "    \n",
    "    #clicking the next button\n",
    "    next_btn = driver.find_element(by=By.XPATH, value='/html/body/div[2]/div/div/div[2]/div/div[2]/form/div/button')\n",
    "    driver.execute_script(\"arguments[0].click();\", next_btn)\n",
    "    time.sleep(2)\n",
    "    \n",
    "    \n",
    "    #3.Entering USERNAME\n",
    "    finder = driver.find_element(by=By.XPATH, value='/html/body/div[2]/div/div/div[2]/div/div[2]/form/div/div[2]/div/div[1]/div/input')\n",
    "    finder.send_keys(username)\n",
    "\n",
    "    #clicking the next button\n",
    "    next_btn = driver.find_element(by=By.XPATH, value='/html/body/div[2]/div/div/div[2]/div/div[2]/form/div/button')\n",
    "    driver.execute_script(\"arguments[0].click();\", next_btn)\n",
    "    time.sleep(2)\n",
    "    \n",
    "    #4.Entering Password\n",
    "    #4.1 password \n",
    "    finder = driver.find_element(by=By.XPATH, value='/html/body/div[2]/div/div/div[2]/div/div[2]/form/div/div[2]/div/div[1]/div/input')\n",
    "    finder.send_keys(password)\n",
    "\n",
    "    #4.2 Confirm Password\n",
    "    finder = driver.find_element(by=By.XPATH, value='/html/body/div[2]/div/div/div[2]/div/div[2]/form/div/div[2]/div/div[3]/div/input')\n",
    "    finder.send_keys(password)\n",
    "    time.sleep(20)\n",
    "    \n",
    "    \n",
    "    #clicking the next button\n",
    "    try:\n",
    "        time.sleep(15)\n",
    "        next_btn = driver.find_element(by=By.XPATH, value='/html/body/div[2]/div/div/div[2]/div/div[2]/form/div/button')\n",
    "        driver.execute_script(\"arguments[0].click();\", next_btn)\n",
    "        time.sleep(25)\n",
    "    \n",
    "    except:\n",
    "        time.sleep(20)\n",
    "\n",
    "    save_credentials(email,username,password)\n",
    "    \n",
    "\n",
    "driver.close()"
   ]
  }
 ],
 "metadata": {
  "kernelspec": {
   "display_name": "Python 3 (ipykernel)",
   "language": "python",
   "name": "python3"
  },
  "language_info": {
   "codemirror_mode": {
    "name": "ipython",
    "version": 3
   },
   "file_extension": ".py",
   "mimetype": "text/x-python",
   "name": "python",
   "nbconvert_exporter": "python",
   "pygments_lexer": "ipython3",
   "version": "3.9.7"
  }
 },
 "nbformat": 4,
 "nbformat_minor": 5
}
